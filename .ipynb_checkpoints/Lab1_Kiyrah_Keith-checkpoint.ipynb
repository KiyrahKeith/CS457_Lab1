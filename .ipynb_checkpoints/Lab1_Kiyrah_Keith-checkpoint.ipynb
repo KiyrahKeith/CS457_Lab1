{
 "cells": [
  {
   "cell_type": "markdown",
   "metadata": {},
   "source": [
    "# Exercises with Python"
   ]
  },
  {
   "cell_type": "code",
   "execution_count": 4,
   "metadata": {},
   "outputs": [],
   "source": [
    "import numpy as np\n",
    "import matplotlib.pyplot as plt\n",
    "import pandas as pd"
   ]
  },
  {
   "cell_type": "markdown",
   "metadata": {},
   "source": [
    "## Exercise 1 - Numpy\n",
    "#### Creat an array of 450 random integers between -10 and 10"
   ]
  },
  {
   "cell_type": "code",
   "execution_count": 8,
   "metadata": {},
   "outputs": [
    {
     "data": {
      "text/plain": [
       "array([  9,   3,  -6,  10, -10,   8,  -4,   5,  -5,  -4,  -8,   6,  -1,\n",
       "        -9,  10,  -6,  -2,  -8,  10,  -1,   0,   2,  -5,   5,   3,   2,\n",
       "       -10,   8,   0,   5,  -7,   0,   7,   3,   8,  -5, -10,  -4,  10,\n",
       "        -7, -10,   2,   9,  -4,  -6,  -4,  -1,   4,  -3,   9,  -1,  -4,\n",
       "        -4,  -4,  -8,  -3, -10,   9,  -9,  -5,  10,  -9,  -7,  10,  -4,\n",
       "         8,  -4,  -1,  -3,  -3,  -5, -10,  -2,  -3,   3,   1,   2,   9,\n",
       "         4,  -3,  -7,   7,   1,  -3,  -4,   0,   4,  10,   0,   5,   1,\n",
       "         6,   5, -10,   1,  -4,   8,   6,  -6,  -5,   9,  -4,  -5,   3,\n",
       "         6,   8,   2,   9,  -9,   9,   5,   4,   5,  10,   7,  10,  -7,\n",
       "         2,   0,   8,  -7,  -5,   3,  -7,   0,   3,   4,  -1,   0,   3,\n",
       "        -9,   9,   2,   3,  -4,   9,  -4,  -2,  -5,   1,   4,   4,   3,\n",
       "        -3,  10,  -4,  -6,  -1,   8,   5,   0,  10,   1,  -2,  -3,   1,\n",
       "        -4,  -5,   6,   2,  -7,  -9,  -2,  -7,  -6, -10,  -7,   0,  -1,\n",
       "         1,  -5,  -4,   9,   3, -10,   0, -10,  -8,   7,   2,   3,   1,\n",
       "        -1,  -1,  -4,  -4,  10,  -2,  -6,  -8,  -6,   1,  -2,  -3,  -3,\n",
       "        -5, -10,  -5,  -4,   2,   8,   5,   6,   8,  -1,  -7,   0,  -2,\n",
       "         8,  -8,  -8,  -8,   5,   1,   9,   8,  10,   9,   9,   4,   8,\n",
       "        -1,  -3,   3,   0,   3,  -9,  -9,  -5,   8,   5, -10,  -8,   7,\n",
       "         3,  -4,   2,   8,   0,   8,   2,   2,   7,   0,   8,   5,  -3,\n",
       "        -8,  -8,  10,  -2,   4,   8,   6,  -7,   7,  -4,   6,  -5,  -1,\n",
       "         5,   2,   3,   8,   2,  -9,  -3,  -6, -10,   3,   5,   4,   0,\n",
       "        -9,   9,   3,  -1,   8,   2,   4,   7,  -2,   9,  -2,   4,   2,\n",
       "         3,  -3,   9,  -1,  -6,  -7,   5,   9,  -7,   2,  -7,  -2,   7,\n",
       "         7,   3,  -3,  -5,  -7, -10,   3,   0,   5,   5,  -1,  -1,  -2,\n",
       "         7,  -8,  10,  10,   0,  -7,   6, -10,  -8,   6,  -4,   0,   0,\n",
       "        -2,   5,   4,   7,  -3,   8,  -3,   7,  -1,  -3,  -8,   9,  -4,\n",
       "        -3,   5,   7,   5,  -4,   7,   1,  -6,  -1,   1,  -9,   9,   5,\n",
       "         6,  -3,   5,   1,   1,   0,  -7,  -8,   8,  -6,   7,   4,  -7,\n",
       "        -3,   4,   5,   5,   9,  -7, -10,   9,  -2,   3,  -7,  -2,   5,\n",
       "        -3,  -5,   0,   5,   9,   3,  -7,  -2,  -9,   6, -10,  -4,   6,\n",
       "         6,  -6,   9,  -4,  10,   5,   1,  -2,   5,   5,  -6,   7,  10,\n",
       "         6,   8,  -4,  -9,   7,  -2,  -6,  -7,  -5,   7,   4,  -9,   9,\n",
       "         7,  -3,  -7,   9,  10,  -3,   6,   0,  10,   5,   6,   6, -10,\n",
       "        -3,   2,   3,   0,   3,   0,  -6,   3,  -5,   6,   4,   8,   8,\n",
       "        -6,   4,   9,  -5,  -4,  -2,  -7,   4])"
      ]
     },
     "execution_count": 8,
     "metadata": {},
     "output_type": "execute_result"
    }
   ],
   "source": [
    "# Your code: \n",
    "\n",
    "array = np.random.randint(-10, 11, 450) # Generate a list of 450 integers in the range [-10, 10] inclusive.  \n",
    "\n",
    "array"
   ]
  },
  {
   "cell_type": "markdown",
   "metadata": {},
   "source": [
    "#### Resize the above array as a 5x70 matrix. \n",
    "#### Is there a problem? \n",
    "\n",
    "#### If there is, correct it to a suitable shape.\n",
    "\n",
    "We check what dimension our array has:"
   ]
  },
  {
   "cell_type": "code",
   "execution_count": 10,
   "metadata": {},
   "outputs": [
    {
     "name": "stdout",
     "output_type": "stream",
     "text": [
      "(450,)\n"
     ]
    }
   ],
   "source": [
    "# Your code:\n",
    "\n",
    "print(array.shape)\n",
    "\n",
    "# new_matrix = array.reshape(5, 70) # Attempt to reshape the array into a 5x70 matrix\n",
    "# new_matrix # print the output matrix\n",
    "\n",
    "# Is there a problem? why?\n",
    "#Please add your idea\n",
    "\n",
    "# There's a problem because 5*70 = 350, which is invalid because it's not enough space to store 450 values. \n",
    "# The solution is to reshape to a 5x90 matrix\n",
    "\n"
   ]
  },
  {
   "cell_type": "code",
   "execution_count": 12,
   "metadata": {},
   "outputs": [
    {
     "data": {
      "text/plain": [
       "(450,)"
      ]
     },
     "execution_count": 12,
     "metadata": {},
     "output_type": "execute_result"
    }
   ],
   "source": [
    "array.shape"
   ]
  },
  {
   "cell_type": "markdown",
   "metadata": {},
   "source": [
    "We resize:"
   ]
  },
  {
   "cell_type": "code",
   "execution_count": 14,
   "metadata": {},
   "outputs": [
    {
     "data": {
      "text/plain": [
       "array([[  9,   3,  -6,  10, -10,   8,  -4,   5,  -5,  -4,  -8,   6,  -1,\n",
       "         -9,  10,  -6,  -2,  -8,  10,  -1,   0,   2,  -5,   5,   3,   2,\n",
       "        -10,   8,   0,   5,  -7,   0,   7,   3,   8,  -5, -10,  -4,  10,\n",
       "         -7, -10,   2,   9,  -4,  -6,  -4,  -1,   4,  -3,   9,  -1,  -4,\n",
       "         -4,  -4,  -8,  -3, -10,   9,  -9,  -5,  10,  -9,  -7,  10,  -4,\n",
       "          8,  -4,  -1,  -3,  -3,  -5, -10,  -2,  -3,   3,   1,   2,   9,\n",
       "          4,  -3,  -7,   7,   1,  -3,  -4,   0,   4,  10,   0,   5],\n",
       "       [  1,   6,   5, -10,   1,  -4,   8,   6,  -6,  -5,   9,  -4,  -5,\n",
       "          3,   6,   8,   2,   9,  -9,   9,   5,   4,   5,  10,   7,  10,\n",
       "         -7,   2,   0,   8,  -7,  -5,   3,  -7,   0,   3,   4,  -1,   0,\n",
       "          3,  -9,   9,   2,   3,  -4,   9,  -4,  -2,  -5,   1,   4,   4,\n",
       "          3,  -3,  10,  -4,  -6,  -1,   8,   5,   0,  10,   1,  -2,  -3,\n",
       "          1,  -4,  -5,   6,   2,  -7,  -9,  -2,  -7,  -6, -10,  -7,   0,\n",
       "         -1,   1,  -5,  -4,   9,   3, -10,   0, -10,  -8,   7,   2],\n",
       "       [  3,   1,  -1,  -1,  -4,  -4,  10,  -2,  -6,  -8,  -6,   1,  -2,\n",
       "         -3,  -3,  -5, -10,  -5,  -4,   2,   8,   5,   6,   8,  -1,  -7,\n",
       "          0,  -2,   8,  -8,  -8,  -8,   5,   1,   9,   8,  10,   9,   9,\n",
       "          4,   8,  -1,  -3,   3,   0,   3,  -9,  -9,  -5,   8,   5, -10,\n",
       "         -8,   7,   3,  -4,   2,   8,   0,   8,   2,   2,   7,   0,   8,\n",
       "          5,  -3,  -8,  -8,  10,  -2,   4,   8,   6,  -7,   7,  -4,   6,\n",
       "         -5,  -1,   5,   2,   3,   8,   2,  -9,  -3,  -6, -10,   3],\n",
       "       [  5,   4,   0,  -9,   9,   3,  -1,   8,   2,   4,   7,  -2,   9,\n",
       "         -2,   4,   2,   3,  -3,   9,  -1,  -6,  -7,   5,   9,  -7,   2,\n",
       "         -7,  -2,   7,   7,   3,  -3,  -5,  -7, -10,   3,   0,   5,   5,\n",
       "         -1,  -1,  -2,   7,  -8,  10,  10,   0,  -7,   6, -10,  -8,   6,\n",
       "         -4,   0,   0,  -2,   5,   4,   7,  -3,   8,  -3,   7,  -1,  -3,\n",
       "         -8,   9,  -4,  -3,   5,   7,   5,  -4,   7,   1,  -6,  -1,   1,\n",
       "         -9,   9,   5,   6,  -3,   5,   1,   1,   0,  -7,  -8,   8],\n",
       "       [ -6,   7,   4,  -7,  -3,   4,   5,   5,   9,  -7, -10,   9,  -2,\n",
       "          3,  -7,  -2,   5,  -3,  -5,   0,   5,   9,   3,  -7,  -2,  -9,\n",
       "          6, -10,  -4,   6,   6,  -6,   9,  -4,  10,   5,   1,  -2,   5,\n",
       "          5,  -6,   7,  10,   6,   8,  -4,  -9,   7,  -2,  -6,  -7,  -5,\n",
       "          7,   4,  -9,   9,   7,  -3,  -7,   9,  10,  -3,   6,   0,  10,\n",
       "          5,   6,   6, -10,  -3,   2,   3,   0,   3,   0,  -6,   3,  -5,\n",
       "          6,   4,   8,   8,  -6,   4,   9,  -5,  -4,  -2,  -7,   4]])"
      ]
     },
     "execution_count": 14,
     "metadata": {},
     "output_type": "execute_result"
    }
   ],
   "source": [
    "corrected_matrix = array.reshape(5, 90) # Reshape the array to a 5x90 matrix\n",
    "corrected_matrix # Print the output matrix\n"
   ]
  },
  {
   "cell_type": "markdown",
   "metadata": {},
   "source": [
    "#### Choose values greater than 0 from your corrected_matrix."
   ]
  },
  {
   "cell_type": "code",
   "execution_count": 16,
   "metadata": {},
   "outputs": [
    {
     "data": {
      "text/plain": [
       "array([  9,   3,  -6,  10, -10,   8,  -4,   5,  -5,  -4,  -8,   6,  -1,\n",
       "        -9,  10,  -6,  -2,  -8,  10,  -1,   2,  -5,   5,   3,   2, -10,\n",
       "         8,   5,  -7,   7,   3,   8,  -5, -10,  -4,  10,  -7, -10,   2,\n",
       "         9,  -4,  -6,  -4,  -1,   4,  -3,   9,  -1,  -4,  -4,  -4,  -8,\n",
       "        -3, -10,   9,  -9,  -5,  10,  -9,  -7,  10,  -4,   8,  -4,  -1,\n",
       "        -3,  -3,  -5, -10,  -2,  -3,   3,   1,   2,   9,   4,  -3,  -7,\n",
       "         7,   1,  -3,  -4,   4,  10,   5,   1,   6,   5, -10,   1,  -4,\n",
       "         8,   6,  -6,  -5,   9,  -4,  -5,   3,   6,   8,   2,   9,  -9,\n",
       "         9,   5,   4,   5,  10,   7,  10,  -7,   2,   8,  -7,  -5,   3,\n",
       "        -7,   3,   4,  -1,   3,  -9,   9,   2,   3,  -4,   9,  -4,  -2,\n",
       "        -5,   1,   4,   4,   3,  -3,  10,  -4,  -6,  -1,   8,   5,  10,\n",
       "         1,  -2,  -3,   1,  -4,  -5,   6,   2,  -7,  -9,  -2,  -7,  -6,\n",
       "       -10,  -7,  -1,   1,  -5,  -4,   9,   3, -10, -10,  -8,   7,   2,\n",
       "         3,   1,  -1,  -1,  -4,  -4,  10,  -2,  -6,  -8,  -6,   1,  -2,\n",
       "        -3,  -3,  -5, -10,  -5,  -4,   2,   8,   5,   6,   8,  -1,  -7,\n",
       "        -2,   8,  -8,  -8,  -8,   5,   1,   9,   8,  10,   9,   9,   4,\n",
       "         8,  -1,  -3,   3,   3,  -9,  -9,  -5,   8,   5, -10,  -8,   7,\n",
       "         3,  -4,   2,   8,   8,   2,   2,   7,   8,   5,  -3,  -8,  -8,\n",
       "        10,  -2,   4,   8,   6,  -7,   7,  -4,   6,  -5,  -1,   5,   2,\n",
       "         3,   8,   2,  -9,  -3,  -6, -10,   3,   5,   4,  -9,   9,   3,\n",
       "        -1,   8,   2,   4,   7,  -2,   9,  -2,   4,   2,   3,  -3,   9,\n",
       "        -1,  -6,  -7,   5,   9,  -7,   2,  -7,  -2,   7,   7,   3,  -3,\n",
       "        -5,  -7, -10,   3,   5,   5,  -1,  -1,  -2,   7,  -8,  10,  10,\n",
       "        -7,   6, -10,  -8,   6,  -4,  -2,   5,   4,   7,  -3,   8,  -3,\n",
       "         7,  -1,  -3,  -8,   9,  -4,  -3,   5,   7,   5,  -4,   7,   1,\n",
       "        -6,  -1,   1,  -9,   9,   5,   6,  -3,   5,   1,   1,  -7,  -8,\n",
       "         8,  -6,   7,   4,  -7,  -3,   4,   5,   5,   9,  -7, -10,   9,\n",
       "        -2,   3,  -7,  -2,   5,  -3,  -5,   5,   9,   3,  -7,  -2,  -9,\n",
       "         6, -10,  -4,   6,   6,  -6,   9,  -4,  10,   5,   1,  -2,   5,\n",
       "         5,  -6,   7,  10,   6,   8,  -4,  -9,   7,  -2,  -6,  -7,  -5,\n",
       "         7,   4,  -9,   9,   7,  -3,  -7,   9,  10,  -3,   6,  10,   5,\n",
       "         6,   6, -10,  -3,   2,   3,   3,  -6,   3,  -5,   6,   4,   8,\n",
       "         8,  -6,   4,   9,  -5,  -4,  -2,  -7,   4])"
      ]
     },
     "execution_count": 16,
     "metadata": {},
     "output_type": "execute_result"
    }
   ],
   "source": [
    "# Your code\n",
    "nonzero_indices = np.nonzero(corrected_matrix) # Get the indices of the non-zero values\n",
    "nonzero_values = corrected_matrix[nonzero_indices] # Select only the non-zero values\n",
    "nonzero_values"
   ]
  },
  {
   "cell_type": "markdown",
   "metadata": {},
   "source": [
    "#### Given this array x = np.array ([- 5,6, -7,9]), create another array in absolute value "
   ]
  },
  {
   "cell_type": "code",
   "execution_count": 18,
   "metadata": {},
   "outputs": [
    {
     "data": {
      "text/plain": [
       "array([5, 6, 7, 9])"
      ]
     },
     "execution_count": 18,
     "metadata": {},
     "output_type": "execute_result"
    }
   ],
   "source": [
    "# your code:\n",
    "x = np.array([-5, 6, -7, 9])\n",
    "x_abs = np.abs(x) # Make a new array that's the absolute value of each element in x\n",
    "x_abs"
   ]
  },
  {
   "cell_type": "markdown",
   "metadata": {},
   "source": [
    "#### Given this array x = np.array ([- 5,6, -7,9]), transform it into a 2x2 matrix and calculate the maximum and minimum of each row and column. "
   ]
  },
  {
   "cell_type": "code",
   "execution_count": 28,
   "metadata": {},
   "outputs": [
    {
     "name": "stdout",
     "output_type": "stream",
     "text": [
      "[[-5  6]\n",
      " [-7  9]]\n",
      "Minimum values in each column:  [-7  6]\n",
      "Maximum values in each column:  [-5  9]\n",
      "Minimum values in each row:  [-5 -7]\n",
      "Maximum values in each row:  [6 9]\n"
     ]
    }
   ],
   "source": [
    "# your code:\n",
    "x = np.array([-5, 6, -7, 9]) # Create the given array\n",
    "x_reshaped = x.reshape((2, 2)) # Reshape to a 2x2 matrix\n",
    "print(x_reshaped) # Print the reshaped array\n",
    "\n",
    "print(\"Minimum values in each column: \", np.min(x_reshaped, axis=0))\n",
    "print(\"Maximum values in each column: \", np.max(x_reshaped, axis=0))\n",
    "print(\"Minimum values in each row: \", np.min(x_reshaped, axis=1))\n",
    "print(\"Maximum values in each row: \", np.max(x_reshaped, axis=1))"
   ]
  },
  {
   "cell_type": "markdown",
   "metadata": {},
   "source": [
    "#### Create a matrix of ones with 3x3 range as a_ones, and modify the the a_ones[1][0] = 3  "
   ]
  },
  {
   "cell_type": "code",
   "execution_count": 34,
   "metadata": {},
   "outputs": [
    {
     "data": {
      "text/plain": [
       "array([[1., 1., 1.],\n",
       "       [3., 1., 1.],\n",
       "       [1., 1., 1.]])"
      ]
     },
     "execution_count": 34,
     "metadata": {},
     "output_type": "execute_result"
    }
   ],
   "source": [
    "# your code:\n",
    "\n",
    "a_ones = np.ones((3,3)) # Create a 3x3 matrix of all ones\n",
    "\n",
    "a_ones[1][0] = 3 # Modify a single element\n",
    "\n",
    "a_ones # Print the result\n"
   ]
  },
  {
   "cell_type": "markdown",
   "metadata": {},
   "source": [
    "#### Compute dot product for a_ones and x_reshaped"
   ]
  },
  {
   "cell_type": "code",
   "execution_count": 124,
   "metadata": {},
   "outputs": [
    {
     "name": "stdout",
     "output_type": "stream",
     "text": [
      "New reshaped matrix: \n",
      " [[-5  6]\n",
      " [-7  9]\n",
      " [ 2  3]]\n"
     ]
    },
    {
     "data": {
      "text/plain": [
       "array([[-10.,  18.],\n",
       "       [-20.,  30.],\n",
       "       [-10.,  18.]])"
      ]
     },
     "execution_count": 124,
     "metadata": {},
     "output_type": "execute_result"
    }
   ],
   "source": [
    "# your code\n",
    "new_x = np.array([-5, 6, -7, 9, 2, 3])\n",
    "new_reshaped = new_x.reshape((3, 2))\n",
    "print(\"New reshaped matrix: \\n\", new_reshaped)\n",
    "result = np.dot(a_ones, new_reshaped)\n",
    "result\n",
    "\n",
    "\n",
    "# List the mathematical calculation steps\n",
    "# [1, 1] = 1*-5 + 1*-7 + 1*2 = -10\n",
    "# [1, 2] = 1*6 + 1*9 + 1*3 = 18\n",
    "# [2, 1] = 3*-5 + 1*-7 + 1*2 = -20\n",
    "# [2, 2] = 3*6 + 1*9 + 1*3 = 30\n",
    "# [3, 2] = 1*-5 + 1*-7 + 1*2 = -10\n",
    "# [3, 2] = 1*6 + 1*9 + 1*3 = 18"
   ]
  },
  {
   "cell_type": "markdown",
   "metadata": {},
   "source": [
    "## Exercise 2 - Plot Practice"
   ]
  },
  {
   "cell_type": "markdown",
   "metadata": {},
   "source": [
    "#### Undergraduate student Instructions (CS457)\n",
    "\n",
    "- Let's think if we have this function: f (t) defined by: f (t) = 2t / (1 + t ^ 2) ^ 2 with t> 0.\n",
    "- Where t could be generated by np.linspace(0,10,100)\n",
    "- Provide plot results"
   ]
  },
  {
   "cell_type": "code",
   "execution_count": 38,
   "metadata": {},
   "outputs": [],
   "source": [
    "# Your code:\n",
    "def f(t): # Create the f(t) function\n",
    "    return 2*t/(1+t**2)**2\n",
    "    \n",
    "t_values = np.linspace(0, 10, 100) # Calculate t\n",
    "f_values = f(t_values) # Calculate f\n"
   ]
  },
  {
   "cell_type": "code",
   "execution_count": 52,
   "metadata": {},
   "outputs": [
    {
     "data": {
      "image/png": "[encoded data removed]",
      "text/plain": [
       "<Figure size 800x500 with 1 Axes>"
      ]
     },
     "metadata": {},
     "output_type": "display_data"
    }
   ],
   "source": [
    "# Plot graph with x, y and label set the fontsize = 14\n",
    "# Plot <Your Name> + title and set the fontsize = 14\n",
    "# plot size as (8,5)\n",
    "# plot with legend\n",
    "# plot with grid\n",
    "\n",
    "plt.figure(figsize=(8, 5)) # Change the size to (8, 5)\n",
    "plt.plot(t_values, f_values, label=r'$f(t)=\\frac{2t}{(1+t^2)^2}$')\n",
    "plt.xlabel('t', fontsize=14) # Add an x-axis label\n",
    "plt.ylabel('f(t)', fontsize=14) #Add a y-axis label\n",
    "plt.legend() # Add a legend\n",
    "plt.grid(True) # Turn on grid lines\n",
    "\n",
    "plt.title(\"Kiyrah Keith + Graph of $y = \\\\frac{2x}{(1+x^2)^2}$\", fontsize=14)\n",
    "\n",
    "plt.show()"
   ]
  },
  {
   "cell_type": "markdown",
   "metadata": {},
   "source": [
    "#### Graduate student Instructions (CS557)\n",
    "\n",
    "- Let's think if we have this function: f (t) defined by: f (t) = 2t / (1 + t ^ 2) ^ 2 with t> 0.\n",
    "- Where t could be generated by np.linspace(0,10,100)\n",
    "- Provide line graph with mask = star\n",
    "- Provide bar graph with any 5 points data"
   ]
  },
  {
   "cell_type": "code",
   "execution_count": 54,
   "metadata": {},
   "outputs": [],
   "source": [
    "# Your code:\n",
    "def f(t): # Create the f(t) function\n",
    "    return 2*t/(1+t**2)**2\n",
    "    \n",
    "t_values = np.linspace(0, 10, 100) # Calculate t\n",
    "f_values = f(t_values) # Calculate f"
   ]
  },
  {
   "cell_type": "code",
   "execution_count": 58,
   "metadata": {},
   "outputs": [
    {
     "data": {
      "image/png": "[encoded data removed]",
      "text/plain": [
       "<Figure size 800x500 with 1 Axes>"
      ]
     },
     "metadata": {},
     "output_type": "display_data"
    }
   ],
   "source": [
    "# Line Graph\n",
    "# Plot graph with x, y and label set the fontsize = 14\n",
    "# Plot <Your Name> + title and set the fontsize = 14\n",
    "# plot size as (8,5)\n",
    "# plot with legend\n",
    "# plot with grid\n",
    "\n",
    "plt.figure(figsize=(8, 5)) # Change the size to (8, 5)\n",
    "plt.plot(t_values, f_values, label=r'$f(t)=\\frac{2t}{(1+t^2)^2}$', marker='*', markersize=6)\n",
    "plt.xlabel('t', fontsize=14) # Add an x-axis label\n",
    "plt.ylabel('f(t)', fontsize=14) #Add a y-axis label\n",
    "plt.legend() # Add a legend\n",
    "plt.grid(True) # Turn on grid lines\n",
    "\n",
    "plt.title(\"Kiyrah Keith + Graph of $y = \\\\frac{2x}{(1+x^2)^2}$\", fontsize=14)\n",
    "\n",
    "plt.show()"
   ]
  },
  {
   "cell_type": "code",
   "execution_count": 126,
   "metadata": {},
   "outputs": [
    {
     "data": {
      "image/png": "[encoded data removed]",
      "text/plain": [
       "<Figure size 800x500 with 1 Axes>"
      ]
     },
     "metadata": {},
     "output_type": "display_data"
    }
   ],
   "source": [
    "# Bar Graph\n",
    "# Plot graph with x, y and label set the fontsize = 14\n",
    "# Plot <Your Name> + title and set the fontsize = 14\n",
    "# plot size as (8,5)\n",
    "# plot with legend\n",
    "# plot with grid\n",
    "bar_t_values = t_values[np.arange(1, 101, 20)]\n",
    "\n",
    "plt.figure(figsize=(8, 5)) # Change the size to (8, 5)\n",
    "plt.bar(bar_t_values, bar_f_values, label=r'$f(t)=\\frac{2t}{(1+t^2)^2}$', width=1.0, color='skyblue', edgecolor='black')\n",
    "plt.xlabel('t', fontsize=14) # Add an x-axis label\n",
    "plt.ylabel('f(t)', fontsize=14) #Add a y-axis label\n",
    "plt.legend() # Add a legend\n",
    "plt.grid(True) # Turn on grid lines\n",
    "\n",
    "plt.title(\"Kiyrah Keith + Graph of $y = \\\\frac{2x}{(1+x^2)^2}$\", fontsize=14)\n",
    "\n",
    "plt.show()"
   ]
  },
  {
   "cell_type": "markdown",
   "metadata": {},
   "source": [
    "# Exercise 3 - Pandas "
   ]
  },
  {
   "cell_type": "markdown",
   "metadata": {},
   "source": [
    "#### You have obtained a piece of data about a hill. Please manually assign this data to a dictionary.\n",
    "\n",
    "\n",
    "\"Hill Name\": [\"Everest\", \"K2\", \"Kangchenjunga\", \"Lhotse\", \"Makalu\", \"Cho Oyu\", \"Dhaulagiri\", \"Manaslu\", \"Nanga Parbat\", \"Annapurna\"],\n",
    "\n",
    "\"Height (m)\": [8848, 8611, 8586, 8516, 8485, 8188, 8167, 8163, 8126, 8091],\n",
    "\n",
    "\"Location\": [\"Nepal/China\", \"Pakistan/China\", \"Nepal/India\", \"Nepal/China\", \"Nepal/China\", \"Nepal/China\", \"Nepal\", \"Nepal\", \"Pakistan\", \"Nepal\"],\n",
    "\n",
    "\"First Ascent Year\": [1953, 1954, 1955, 1956, 1955, 1954, 1960, 1956, 1953, 1950],\n",
    "\n",
    "\"Prominence (m)\": [8848, 4017, 3922, 610, 2378, 2340, 3357, 3092, 4608, 2984]\n"
   ]
  },
  {
   "cell_type": "code",
   "execution_count": 78,
   "metadata": {},
   "outputs": [
    {
     "data": {
      "text/plain": [
       "{'Hill Name': ['Everest',\n",
       "  'K2',\n",
       "  'Kangchenjunga',\n",
       "  'Lhotse',\n",
       "  'Makalu',\n",
       "  'Cho Oyu',\n",
       "  'Dhaulagiri',\n",
       "  'Manaslu',\n",
       "  'Nanga Parbat',\n",
       "  'Annapurna'],\n",
       " 'Height (m)': [8848, 8611, 8586, 8516, 8485, 8188, 8167, 8163, 8126, 8091],\n",
       " 'Location': ['Nepal/China',\n",
       "  'Pakistan/China',\n",
       "  'Nepal/India',\n",
       "  'Nepal/China',\n",
       "  'Nepal/China',\n",
       "  'Nepal/China',\n",
       "  'Nepal',\n",
       "  'Nepal',\n",
       "  'Pakistan',\n",
       "  'Nepal'],\n",
       " 'First Ascent Year': [1953,\n",
       "  1954,\n",
       "  1955,\n",
       "  1956,\n",
       "  1955,\n",
       "  1954,\n",
       "  1960,\n",
       "  1956,\n",
       "  1953,\n",
       "  1950],\n",
       " 'Prominence (m)': [8848, 4017, 3922, 610, 2378, 2340, 3357, 3092, 4608, 2984]}"
      ]
     },
     "execution_count": 78,
     "metadata": {},
     "output_type": "execute_result"
    }
   ],
   "source": [
    "# Your code: \n",
    "# Create a dictionary of the data \n",
    "hill_data =  {\"Hill Name\": [\"Everest\", \"K2\", \"Kangchenjunga\", \"Lhotse\", \"Makalu\", \"Cho Oyu\", \"Dhaulagiri\", \"Manaslu\", \"Nanga Parbat\", \"Annapurna\"],\n",
    "              \"Height (m)\": [8848, 8611, 8586, 8516, 8485, 8188, 8167, 8163, 8126, 8091],\n",
    "              \"Location\": [\"Nepal/China\", \"Pakistan/China\", \"Nepal/India\", \"Nepal/China\", \"Nepal/China\", \"Nepal/China\", \"Nepal\", \"Nepal\", \"Pakistan\", \"Nepal\"],\n",
    "              \"First Ascent Year\": [1953, 1954, 1955, 1956, 1955, 1954, 1960, 1956, 1953, 1950],\n",
    "              \"Prominence (m)\": [8848, 4017, 3922, 610, 2378, 2340, 3357, 3092, 4608, 2984]}\n",
    "hill_data\n"
   ]
  },
  {
   "cell_type": "markdown",
   "metadata": {},
   "source": [
    "#### Convert your dictionary to a pandas dataframe with name hill_pd"
   ]
  },
  {
   "cell_type": "code",
   "execution_count": 80,
   "metadata": {},
   "outputs": [
    {
     "data": {
      "text/html": [
       "<div>\n",
       "<style scoped>\n",
       "    .dataframe tbody tr th:only-of-type {\n",
       "        vertical-align: middle;\n",
       "    }\n",
       "\n",
       "    .dataframe tbody tr th {\n",
       "        vertical-align: top;\n",
       "    }\n",
       "\n",
       "    .dataframe thead th {\n",
       "        text-align: right;\n",
       "    }\n",
       "</style>\n",
       "<table border=\"1\" class=\"dataframe\">\n",
       "  <thead>\n",
       "    <tr style=\"text-align: right;\">\n",
       "      <th></th>\n",
       "      <th>Hill Name</th>\n",
       "      <th>Height (m)</th>\n",
       "      <th>Location</th>\n",
       "      <th>First Ascent Year</th>\n",
       "      <th>Prominence (m)</th>\n",
       "    </tr>\n",
       "  </thead>\n",
       "  <tbody>\n",
       "    <tr>\n",
       "      <th>0</th>\n",
       "      <td>Everest</td>\n",
       "      <td>8848</td>\n",
       "      <td>Nepal/China</td>\n",
       "      <td>1953</td>\n",
       "      <td>8848</td>\n",
       "    </tr>\n",
       "    <tr>\n",
       "      <th>1</th>\n",
       "      <td>K2</td>\n",
       "      <td>8611</td>\n",
       "      <td>Pakistan/China</td>\n",
       "      <td>1954</td>\n",
       "      <td>4017</td>\n",
       "    </tr>\n",
       "    <tr>\n",
       "      <th>2</th>\n",
       "      <td>Kangchenjunga</td>\n",
       "      <td>8586</td>\n",
       "      <td>Nepal/India</td>\n",
       "      <td>1955</td>\n",
       "      <td>3922</td>\n",
       "    </tr>\n",
       "    <tr>\n",
       "      <th>3</th>\n",
       "      <td>Lhotse</td>\n",
       "      <td>8516</td>\n",
       "      <td>Nepal/China</td>\n",
       "      <td>1956</td>\n",
       "      <td>610</td>\n",
       "    </tr>\n",
       "    <tr>\n",
       "      <th>4</th>\n",
       "      <td>Makalu</td>\n",
       "      <td>8485</td>\n",
       "      <td>Nepal/China</td>\n",
       "      <td>1955</td>\n",
       "      <td>2378</td>\n",
       "    </tr>\n",
       "    <tr>\n",
       "      <th>5</th>\n",
       "      <td>Cho Oyu</td>\n",
       "      <td>8188</td>\n",
       "      <td>Nepal/China</td>\n",
       "      <td>1954</td>\n",
       "      <td>2340</td>\n",
       "    </tr>\n",
       "    <tr>\n",
       "      <th>6</th>\n",
       "      <td>Dhaulagiri</td>\n",
       "      <td>8167</td>\n",
       "      <td>Nepal</td>\n",
       "      <td>1960</td>\n",
       "      <td>3357</td>\n",
       "    </tr>\n",
       "    <tr>\n",
       "      <th>7</th>\n",
       "      <td>Manaslu</td>\n",
       "      <td>8163</td>\n",
       "      <td>Nepal</td>\n",
       "      <td>1956</td>\n",
       "      <td>3092</td>\n",
       "    </tr>\n",
       "    <tr>\n",
       "      <th>8</th>\n",
       "      <td>Nanga Parbat</td>\n",
       "      <td>8126</td>\n",
       "      <td>Pakistan</td>\n",
       "      <td>1953</td>\n",
       "      <td>4608</td>\n",
       "    </tr>\n",
       "    <tr>\n",
       "      <th>9</th>\n",
       "      <td>Annapurna</td>\n",
       "      <td>8091</td>\n",
       "      <td>Nepal</td>\n",
       "      <td>1950</td>\n",
       "      <td>2984</td>\n",
       "    </tr>\n",
       "  </tbody>\n",
       "</table>\n",
       "</div>"
      ],
      "text/plain": [
       "       Hill Name  Height (m)        Location  First Ascent Year  \\\n",
       "0        Everest        8848     Nepal/China               1953   \n",
       "1             K2        8611  Pakistan/China               1954   \n",
       "2  Kangchenjunga        8586     Nepal/India               1955   \n",
       "3         Lhotse        8516     Nepal/China               1956   \n",
       "4         Makalu        8485     Nepal/China               1955   \n",
       "5        Cho Oyu        8188     Nepal/China               1954   \n",
       "6     Dhaulagiri        8167           Nepal               1960   \n",
       "7        Manaslu        8163           Nepal               1956   \n",
       "8   Nanga Parbat        8126        Pakistan               1953   \n",
       "9      Annapurna        8091           Nepal               1950   \n",
       "\n",
       "   Prominence (m)  \n",
       "0            8848  \n",
       "1            4017  \n",
       "2            3922  \n",
       "3             610  \n",
       "4            2378  \n",
       "5            2340  \n",
       "6            3357  \n",
       "7            3092  \n",
       "8            4608  \n",
       "9            2984  "
      ]
     },
     "execution_count": 80,
     "metadata": {},
     "output_type": "execute_result"
    }
   ],
   "source": [
    "\n",
    "#Your code:\n",
    "hill_pd = pd.DataFrame(hill_data) # Create a new dataframe using the data from the hill_data dictionary\n",
    "hill_pd"
   ]
  },
  {
   "cell_type": "markdown",
   "metadata": {},
   "source": [
    "#### Save your hill_pd to csv"
   ]
  },
  {
   "cell_type": "code",
   "execution_count": 82,
   "metadata": {},
   "outputs": [],
   "source": [
    "# Your code:\n",
    "hill_pd.to_csv('hill_data.csv', index=False)"
   ]
  },
  {
   "cell_type": "markdown",
   "metadata": {},
   "source": [
    "#### Read your hill data from your csv"
   ]
  },
  {
   "cell_type": "code",
   "execution_count": 96,
   "metadata": {},
   "outputs": [
    {
     "data": {
      "text/plain": [
       "Index(['Hill Name', 'Height (m)', 'Location', 'First Ascent Year',\n",
       "       'Prominence (m)'],\n",
       "      dtype='object')"
      ]
     },
     "execution_count": 96,
     "metadata": {},
     "output_type": "execute_result"
    }
   ],
   "source": [
    "# your code\n",
    "read_hill_data = pd.read_csv('hill_data.csv') # Read the csv data\n",
    "read_hill_data.columns # Get the column names"
   ]
  },
  {
   "cell_type": "markdown",
   "metadata": {},
   "source": [
    "#### Please select hills with an altitude higher than 8100 meters and express them in the form of a bar graph."
   ]
  },
  {
   "cell_type": "code",
   "execution_count": 100,
   "metadata": {},
   "outputs": [
    {
     "data": {
      "text/html": [
       "<div>\n",
       "<style scoped>\n",
       "    .dataframe tbody tr th:only-of-type {\n",
       "        vertical-align: middle;\n",
       "    }\n",
       "\n",
       "    .dataframe tbody tr th {\n",
       "        vertical-align: top;\n",
       "    }\n",
       "\n",
       "    .dataframe thead th {\n",
       "        text-align: right;\n",
       "    }\n",
       "</style>\n",
       "<table border=\"1\" class=\"dataframe\">\n",
       "  <thead>\n",
       "    <tr style=\"text-align: right;\">\n",
       "      <th></th>\n",
       "      <th>Hill Name</th>\n",
       "      <th>Height (m)</th>\n",
       "      <th>Location</th>\n",
       "      <th>First Ascent Year</th>\n",
       "      <th>Prominence (m)</th>\n",
       "    </tr>\n",
       "  </thead>\n",
       "  <tbody>\n",
       "    <tr>\n",
       "      <th>0</th>\n",
       "      <td>Everest</td>\n",
       "      <td>8848</td>\n",
       "      <td>Nepal/China</td>\n",
       "      <td>1953</td>\n",
       "      <td>8848</td>\n",
       "    </tr>\n",
       "    <tr>\n",
       "      <th>1</th>\n",
       "      <td>K2</td>\n",
       "      <td>8611</td>\n",
       "      <td>Pakistan/China</td>\n",
       "      <td>1954</td>\n",
       "      <td>4017</td>\n",
       "    </tr>\n",
       "    <tr>\n",
       "      <th>2</th>\n",
       "      <td>Kangchenjunga</td>\n",
       "      <td>8586</td>\n",
       "      <td>Nepal/India</td>\n",
       "      <td>1955</td>\n",
       "      <td>3922</td>\n",
       "    </tr>\n",
       "    <tr>\n",
       "      <th>3</th>\n",
       "      <td>Lhotse</td>\n",
       "      <td>8516</td>\n",
       "      <td>Nepal/China</td>\n",
       "      <td>1956</td>\n",
       "      <td>610</td>\n",
       "    </tr>\n",
       "    <tr>\n",
       "      <th>4</th>\n",
       "      <td>Makalu</td>\n",
       "      <td>8485</td>\n",
       "      <td>Nepal/China</td>\n",
       "      <td>1955</td>\n",
       "      <td>2378</td>\n",
       "    </tr>\n",
       "    <tr>\n",
       "      <th>5</th>\n",
       "      <td>Cho Oyu</td>\n",
       "      <td>8188</td>\n",
       "      <td>Nepal/China</td>\n",
       "      <td>1954</td>\n",
       "      <td>2340</td>\n",
       "    </tr>\n",
       "    <tr>\n",
       "      <th>6</th>\n",
       "      <td>Dhaulagiri</td>\n",
       "      <td>8167</td>\n",
       "      <td>Nepal</td>\n",
       "      <td>1960</td>\n",
       "      <td>3357</td>\n",
       "    </tr>\n",
       "    <tr>\n",
       "      <th>7</th>\n",
       "      <td>Manaslu</td>\n",
       "      <td>8163</td>\n",
       "      <td>Nepal</td>\n",
       "      <td>1956</td>\n",
       "      <td>3092</td>\n",
       "    </tr>\n",
       "    <tr>\n",
       "      <th>8</th>\n",
       "      <td>Nanga Parbat</td>\n",
       "      <td>8126</td>\n",
       "      <td>Pakistan</td>\n",
       "      <td>1953</td>\n",
       "      <td>4608</td>\n",
       "    </tr>\n",
       "  </tbody>\n",
       "</table>\n",
       "</div>"
      ],
      "text/plain": [
       "       Hill Name  Height (m)        Location  First Ascent Year  \\\n",
       "0        Everest        8848     Nepal/China               1953   \n",
       "1             K2        8611  Pakistan/China               1954   \n",
       "2  Kangchenjunga        8586     Nepal/India               1955   \n",
       "3         Lhotse        8516     Nepal/China               1956   \n",
       "4         Makalu        8485     Nepal/China               1955   \n",
       "5        Cho Oyu        8188     Nepal/China               1954   \n",
       "6     Dhaulagiri        8167           Nepal               1960   \n",
       "7        Manaslu        8163           Nepal               1956   \n",
       "8   Nanga Parbat        8126        Pakistan               1953   \n",
       "\n",
       "   Prominence (m)  \n",
       "0            8848  \n",
       "1            4017  \n",
       "2            3922  \n",
       "3             610  \n",
       "4            2378  \n",
       "5            2340  \n",
       "6            3357  \n",
       "7            3092  \n",
       "8            4608  "
      ]
     },
     "execution_count": 100,
     "metadata": {},
     "output_type": "execute_result"
    }
   ],
   "source": [
    "# your code:\n",
    "# Select only the data with height > 8100\n",
    "selected_hill = read_hill_data[read_hill_data['Height (m)'] > 8100]\n",
    "selected_hill "
   ]
  },
  {
   "cell_type": "code",
   "execution_count": 130,
   "metadata": {},
   "outputs": [
    {
     "data": {
      "image/png": "[encoded data removed]",
      "text/plain": [
       "<Figure size 1000x500 with 1 Axes>"
      ]
     },
     "metadata": {},
     "output_type": "display_data"
    }
   ],
   "source": [
    "# Visualization\n",
    "# Need to add x,y labels, titles and grid.\n",
    "# Please add your name on graph titles.\n",
    "\n",
    "# your code\n",
    "# Wrap the text for the hill names so that they don't overlap on the bar chart\n",
    "hill_names = ['\\n'.join(name.split()) for name in selected_hill['Hill Name']]\n",
    "plt.figure(figsize=(10, 5))\n",
    "plt.bar(hill_names, selected_hill['Height (m)'], width=0.5, color='skyblue', edgecolor='black')\n",
    "plt.xlabel('Hill Name', fontsize=14) # Add an x-axis label\n",
    "plt.ylabel('Height (m)', fontsize=14) #Add a y-axis label\n",
    "plt.ylim(min(selected_hill['Height (m)']) - 10, max(selected_hill['Height (m)']) + 10)\n",
    "plt.grid(True) # Turn on grid lines\n",
    "\n",
    "plt.title(\"Kiyrah Keith + Bar Graph of Hills\", fontsize=14)\n",
    "\n",
    "plt.show()\n"
   ]
  },
  {
   "cell_type": "markdown",
   "metadata": {},
   "source": [
    "#### For Graduate students only (CS557)\n",
    "\n",
    "Please add another set of visualizations using the **Prominence** data and explain their significance."
   ]
  },
  {
   "cell_type": "code",
   "execution_count": null,
   "metadata": {},
   "outputs": [],
   "source": []
  }
 ],
 "metadata": {
  "kernelspec": {
   "display_name": "Python [conda env:base] *",
   "language": "python",
   "name": "conda-base-py"
  },
  "language_info": {
   "codemirror_mode": {
    "name": "ipython",
    "version": 3
   },
   "file_extension": ".py",
   "mimetype": "text/x-python",
   "name": "python",
   "nbconvert_exporter": "python",
   "pygments_lexer": "ipython3",
   "version": "3.12.7"
  }
 },
 "nbformat": 4,
 "nbformat_minor": 4
}
